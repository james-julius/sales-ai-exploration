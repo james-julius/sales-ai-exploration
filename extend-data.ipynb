{
 "cells": [
  {
   "cell_type": "code",
   "execution_count": 19,
   "metadata": {},
   "outputs": [
    {
     "name": "stdout",
     "output_type": "stream",
     "text": [
      "(847, 8)\n",
      "Index(['url', 'title', 'rentInfo', 'neighbourhood', 'propertyAddress',\n",
      "       'propertyPhoneNumber', 'propertyWebsite', 'withValidWebsite'],\n",
      "      dtype='object')\n",
      "withValidWebsite\n",
      "True    847\n",
      "Name: count, dtype: int64\n"
     ]
    }
   ],
   "source": [
    "import pandas as pd\n",
    "\n",
    "# Load the CSV\n",
    "with open('./rideshine_service_area_apartments.csv') as crawled_csv:\n",
    "    crawled_df = pd.read_csv(crawled_csv)\n",
    "    crawled_df[\"withValidWebsite\"] = crawled_df[\"propertyWebsite\"] != \"Not Provided\"\n",
    "\n",
    "    # Filter for valid websites\n",
    "    with_valid_website = crawled_df[crawled_df[\"propertyWebsite\"] != \"Not Provided\"]\n",
    "print(with_valid_website.shape)\n",
    "print(with_valid_website.columns)\n",
    "print(with_valid_website[\"withValidWebsite\"].value_counts())"
   ]
  },
  {
   "cell_type": "code",
   "execution_count": 11,
   "metadata": {},
   "outputs": [
    {
     "name": "stdout",
     "output_type": "stream",
     "text": [
      "{'name': 'extract_building_lead_qualification_info', 'description': 'Get the required information about the building and or its management company information from the html input', 'type': 'object', 'title': 'qualification_info', 'required': ['is_luxury', 'has_100_units', 'has_parking', 'contact_email', 'contact_phone_number'], 'parameters': {'type': 'object', 'properties': {'is_luxury': {'type': 'boolean', 'description': 'This is a luxury apartment building'}, 'has_100_units': {'type': 'boolean', 'description': 'This apartment building has over 100 units'}, 'has_parking': {'type': 'boolean', 'description': 'This apartment building has parking'}, 'contact_phone_number': {'type': 'string', 'description': 'The contact phone number listed for the property'}, 'contact_email': {'type': 'string', 'description': 'The contact email listed for the property'}}}}\n"
     ]
    }
   ],
   "source": [
    "import json\n",
    "qualification_schema = json.load(open('./schemas/rideshine-qualification.json'))\n",
    "print(qualification_schema)"
   ]
  },
  {
   "cell_type": "code",
   "execution_count": 15,
   "metadata": {},
   "outputs": [
    {
     "name": "stdout",
     "output_type": "stream",
     "text": [
      "Index(['url', 'title', 'rentInfo', 'neighbourhood', 'propertyAddress',\n",
      "       'propertyPhoneNumber', 'propertyWebsite', 'with_valid_website',\n",
      "       'is_luxury', 'has_100_units', 'has_parking', 'contact_email',\n",
      "       'contact_phone_number'],\n",
      "      dtype='object')\n"
     ]
    }
   ],
   "source": [
    "# Setup new columns\n",
    "crawled_df[\"is_luxury\"] = None\n",
    "crawled_df[\"has_100_units\"] = None\n",
    "crawled_df[\"has_parking\"] = None\n",
    "crawled_df['contact_email'] = None\n",
    "crawled_df['contact_phone_number'] = None\n",
    "print(crawled_df.columns)"
   ]
  },
  {
   "cell_type": "code",
   "execution_count": 21,
   "metadata": {},
   "outputs": [
    {
     "ename": "ModuleNotFoundError",
     "evalue": "No module named 'requests'",
     "output_type": "error",
     "traceback": [
      "\u001b[0;31m---------------------------------------------------------------------------\u001b[0m",
      "\u001b[0;31mModuleNotFoundError\u001b[0m                       Traceback (most recent call last)",
      "Cell \u001b[0;32mIn[21], line 1\u001b[0m\n\u001b[0;32m----> 1\u001b[0m \u001b[38;5;28;01mimport\u001b[39;00m \u001b[38;5;21;01mrequests\u001b[39;00m\n\u001b[1;32m      4\u001b[0m \u001b[38;5;28;01mdef\u001b[39;00m \u001b[38;5;21mextract_ai_columns\u001b[39m(url):\n\u001b[1;32m      5\u001b[0m     \u001b[38;5;28;01mtry\u001b[39;00m:\n",
      "\u001b[0;31mModuleNotFoundError\u001b[0m: No module named 'requests'"
     ]
    }
   ],
   "source": [
    "import requests\n",
    "\n",
    "\n",
    "def extract_ai_columns(url):\n",
    "    try:\n",
    "        result = requests.post('http://localhost:8000/web-scraper/invoke', {\n",
    "            \"urls\": [url],\n",
    "            \"schema\": qualification_schema,\n",
    "            \"model_name\": \"You are a real estate analyst viewing a property and deciding if it meets the following criteria from its website\"\n",
    "        })\n",
    "        print(result)\n",
    "    except Exception as e:\n",
    "        print(e)"
   ]
  },
  {
   "cell_type": "code",
   "execution_count": 20,
   "metadata": {},
   "outputs": [
    {
     "ename": "NameError",
     "evalue": "name 'extract_ai_columns' is not defined",
     "output_type": "error",
     "traceback": [
      "\u001b[0;31m---------------------------------------------------------------------------\u001b[0m",
      "\u001b[0;31mNameError\u001b[0m                                 Traceback (most recent call last)",
      "Cell \u001b[0;32mIn[20], line 1\u001b[0m\n\u001b[0;32m----> 1\u001b[0m \u001b[43mextract_ai_columns\u001b[49m(\u001b[38;5;124m\"\u001b[39m\u001b[38;5;124mhttp://pacificapthomes.com/\u001b[39m\u001b[38;5;124m\"\u001b[39m)\n",
      "\u001b[0;31mNameError\u001b[0m: name 'extract_ai_columns' is not defined"
     ]
    }
   ],
   "source": [
    "extract_ai_columns(\"http://pacificapthomes.com/\")"
   ]
  },
  {
   "cell_type": "code",
   "execution_count": 4,
   "metadata": {},
   "outputs": [
    {
     "name": "stdout",
     "output_type": "stream",
     "text": [
      "Index(['url', 'title', 'rentInfo', 'neighbourhood', 'propertyAddress',\n",
      "       'propertyPhoneNumber', 'propertyWebsite'],\n",
      "      dtype='object')\n"
     ]
    }
   ],
   "source": [
    "crawled_df[\"ap\"]"
   ]
  },
  {
   "cell_type": "markdown",
   "metadata": {},
   "source": []
  }
 ],
 "metadata": {
  "kernelspec": {
   "display_name": ".venv",
   "language": "python",
   "name": "python3"
  },
  "language_info": {
   "name": "python",
   "version": "3.10.10"
  }
 },
 "nbformat": 4,
 "nbformat_minor": 2
}
