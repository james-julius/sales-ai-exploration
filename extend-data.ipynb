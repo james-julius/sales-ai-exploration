{
 "cells": [
  {
   "cell_type": "code",
   "execution_count": 9,
   "metadata": {},
   "outputs": [
    {
     "name": "stdout",
     "output_type": "stream",
     "text": [
      "(847, 8)\n",
      "with_valid_website\n",
      "True    847\n",
      "Name: count, dtype: int64\n"
     ]
    }
   ],
   "source": [
    "import pandas as pd\n",
    "\n",
    "# Load the CSV\n",
    "with open('./rideshine_service_area_apartments.csv') as crawled_csv:\n",
    "    crawled_df = pd.read_csv(crawled_csv)\n",
    "    crawled_df[\"with_valid_website\"] = crawled_df[\"propertyWebsite\"] != \"Not Provided\"\n",
    "\n",
    "    # Filter for valid websites\n",
    "    with_valid_website = crawled_df[crawled_df[\"propertyWebsite\"] != \"Not Provided\"]\n",
    "\n",
    "print(with_valid_website.shape)\n",
    "print(with_valid_website[\"with_valid_website\"].value_counts())"
   ]
  },
  {
   "cell_type": "code",
   "execution_count": 4,
   "metadata": {},
   "outputs": [
    {
     "name": "stdout",
     "output_type": "stream",
     "text": [
      "Index(['url', 'title', 'rentInfo', 'neighbourhood', 'propertyAddress',\n",
      "       'propertyPhoneNumber', 'propertyWebsite'],\n",
      "      dtype='object')\n"
     ]
    }
   ],
   "source": [
    "import asyncio\n",
    "import requests\n",
    "\n",
    "result = requests.post('http://localhost:8000/web-scraper/invoke', {\n",
    "\n",
    "})"
   ]
  },
  {
   "cell_type": "markdown",
   "metadata": {},
   "source": []
  }
 ],
 "metadata": {
  "kernelspec": {
   "display_name": ".venv",
   "language": "python",
   "name": "python3"
  },
  "language_info": {
   "name": "python",
   "version": "3.10.10"
  }
 },
 "nbformat": 4,
 "nbformat_minor": 2
}
